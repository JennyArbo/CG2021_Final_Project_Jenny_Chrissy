{
 "cells": [
  {
   "cell_type": "markdown",
   "metadata": {},
   "source": [
    "# Biodiversity in US National Parks\n",
    "\n",
    "## Coder Girl 2021 Data Science Final Project\n",
    "#### Chrissy Bellizzi and Jenny Arbuszewski\n",
    "\n",
    "## Executive Summary"
   ]
  },
  {
   "cell_type": "markdown",
   "metadata": {},
   "source": [
    "## Importing necessary libraries"
   ]
  },
  {
   "cell_type": "code",
   "execution_count": 2,
   "metadata": {},
   "outputs": [],
   "source": [
    "import pandas as pd\n",
    "import numpy as np\n",
    "import matplotlib.pyplot as plt\n",
    "import seaborn as sns\n"
   ]
  },
  {
   "cell_type": "markdown",
   "metadata": {},
   "source": [
    "## Reading in our CSV files"
   ]
  },
  {
   "cell_type": "code",
   "execution_count": 24,
   "metadata": {},
   "outputs": [
    {
     "data": {
      "text/html": [
       "<div>\n",
       "<style scoped>\n",
       "    .dataframe tbody tr th:only-of-type {\n",
       "        vertical-align: middle;\n",
       "    }\n",
       "\n",
       "    .dataframe tbody tr th {\n",
       "        vertical-align: top;\n",
       "    }\n",
       "\n",
       "    .dataframe thead th {\n",
       "        text-align: right;\n",
       "    }\n",
       "</style>\n",
       "<table border=\"1\" class=\"dataframe\">\n",
       "  <thead>\n",
       "    <tr style=\"text-align: right;\">\n",
       "      <th></th>\n",
       "      <th>Species ID</th>\n",
       "      <th>Park Name</th>\n",
       "      <th>Category</th>\n",
       "      <th>Order</th>\n",
       "      <th>Family</th>\n",
       "      <th>Scientific Name</th>\n",
       "      <th>Common Names</th>\n",
       "      <th>Record Status</th>\n",
       "      <th>Occurrence</th>\n",
       "      <th>Nativeness</th>\n",
       "      <th>Abundance</th>\n",
       "      <th>Seasonality</th>\n",
       "      <th>Conservation Status</th>\n",
       "      <th>Unnamed: 13</th>\n",
       "    </tr>\n",
       "  </thead>\n",
       "  <tbody>\n",
       "    <tr>\n",
       "      <th>0</th>\n",
       "      <td>ACAD-1000</td>\n",
       "      <td>Acadia National Park</td>\n",
       "      <td>Mammal</td>\n",
       "      <td>Artiodactyla</td>\n",
       "      <td>Cervidae</td>\n",
       "      <td>Alces alces</td>\n",
       "      <td>Moose</td>\n",
       "      <td>Approved</td>\n",
       "      <td>Present</td>\n",
       "      <td>Native</td>\n",
       "      <td>Rare</td>\n",
       "      <td>Resident</td>\n",
       "      <td>NaN</td>\n",
       "      <td>NaN</td>\n",
       "    </tr>\n",
       "    <tr>\n",
       "      <th>1</th>\n",
       "      <td>ACAD-1001</td>\n",
       "      <td>Acadia National Park</td>\n",
       "      <td>Mammal</td>\n",
       "      <td>Artiodactyla</td>\n",
       "      <td>Cervidae</td>\n",
       "      <td>Odocoileus virginianus</td>\n",
       "      <td>Northern White-Tailed Deer, Virginia Deer, Whi...</td>\n",
       "      <td>Approved</td>\n",
       "      <td>Present</td>\n",
       "      <td>Native</td>\n",
       "      <td>Abundant</td>\n",
       "      <td>NaN</td>\n",
       "      <td>NaN</td>\n",
       "      <td>NaN</td>\n",
       "    </tr>\n",
       "    <tr>\n",
       "      <th>2</th>\n",
       "      <td>ACAD-1002</td>\n",
       "      <td>Acadia National Park</td>\n",
       "      <td>Mammal</td>\n",
       "      <td>Carnivora</td>\n",
       "      <td>Canidae</td>\n",
       "      <td>Canis latrans</td>\n",
       "      <td>Coyote, Eastern Coyote</td>\n",
       "      <td>Approved</td>\n",
       "      <td>Present</td>\n",
       "      <td>Not Native</td>\n",
       "      <td>Common</td>\n",
       "      <td>NaN</td>\n",
       "      <td>Species of Concern</td>\n",
       "      <td>NaN</td>\n",
       "    </tr>\n",
       "    <tr>\n",
       "      <th>3</th>\n",
       "      <td>ACAD-1003</td>\n",
       "      <td>Acadia National Park</td>\n",
       "      <td>Mammal</td>\n",
       "      <td>Carnivora</td>\n",
       "      <td>Canidae</td>\n",
       "      <td>Canis lupus</td>\n",
       "      <td>Eastern Timber Wolf, Gray Wolf, Timber Wolf</td>\n",
       "      <td>Approved</td>\n",
       "      <td>Not Confirmed</td>\n",
       "      <td>Native</td>\n",
       "      <td>NaN</td>\n",
       "      <td>NaN</td>\n",
       "      <td>Endangered</td>\n",
       "      <td>NaN</td>\n",
       "    </tr>\n",
       "    <tr>\n",
       "      <th>4</th>\n",
       "      <td>ACAD-1004</td>\n",
       "      <td>Acadia National Park</td>\n",
       "      <td>Mammal</td>\n",
       "      <td>Carnivora</td>\n",
       "      <td>Canidae</td>\n",
       "      <td>Vulpes vulpes</td>\n",
       "      <td>Black Fox, Cross Fox, Eastern Red Fox, Fox, Re...</td>\n",
       "      <td>Approved</td>\n",
       "      <td>Present</td>\n",
       "      <td>Unknown</td>\n",
       "      <td>Common</td>\n",
       "      <td>Breeder</td>\n",
       "      <td>NaN</td>\n",
       "      <td>NaN</td>\n",
       "    </tr>\n",
       "  </tbody>\n",
       "</table>\n",
       "</div>"
      ],
      "text/plain": [
       "  Species ID             Park Name Category         Order    Family  \\\n",
       "0  ACAD-1000  Acadia National Park   Mammal  Artiodactyla  Cervidae   \n",
       "1  ACAD-1001  Acadia National Park   Mammal  Artiodactyla  Cervidae   \n",
       "2  ACAD-1002  Acadia National Park   Mammal     Carnivora   Canidae   \n",
       "3  ACAD-1003  Acadia National Park   Mammal     Carnivora   Canidae   \n",
       "4  ACAD-1004  Acadia National Park   Mammal     Carnivora   Canidae   \n",
       "\n",
       "          Scientific Name                                       Common Names  \\\n",
       "0             Alces alces                                              Moose   \n",
       "1  Odocoileus virginianus  Northern White-Tailed Deer, Virginia Deer, Whi...   \n",
       "2           Canis latrans                             Coyote, Eastern Coyote   \n",
       "3             Canis lupus        Eastern Timber Wolf, Gray Wolf, Timber Wolf   \n",
       "4           Vulpes vulpes  Black Fox, Cross Fox, Eastern Red Fox, Fox, Re...   \n",
       "\n",
       "  Record Status     Occurrence  Nativeness Abundance Seasonality  \\\n",
       "0      Approved        Present      Native      Rare    Resident   \n",
       "1      Approved        Present      Native  Abundant         NaN   \n",
       "2      Approved        Present  Not Native    Common         NaN   \n",
       "3      Approved  Not Confirmed      Native       NaN         NaN   \n",
       "4      Approved        Present     Unknown    Common     Breeder   \n",
       "\n",
       "  Conservation Status Unnamed: 13  \n",
       "0                 NaN         NaN  \n",
       "1                 NaN         NaN  \n",
       "2  Species of Concern         NaN  \n",
       "3          Endangered         NaN  \n",
       "4                 NaN         NaN  "
      ]
     },
     "execution_count": 24,
     "metadata": {},
     "output_type": "execute_result"
    }
   ],
   "source": [
    "#defining a function to read our csv files and create dataframes\n",
    "def read_csv(file, data_type = None):\n",
    "    df_name = pd.read_csv(file, dtype = data_type)\n",
    "    return df_name\n",
    "\n",
    "species_df = read_csv('species.csv', str)\n",
    "species_df.head()This is honestly faster to NOT use a function."
   ]
  },
  {
   "cell_type": "code",
   "execution_count": 3,
   "metadata": {},
   "outputs": [],
   "source": [
    "\n",
    "species_df = pd.read_csv('species.csv', dtype = str)\n",
    "parks_df = pd.read_csv('parks.csv')\n"
   ]
  },
  {
   "cell_type": "code",
   "execution_count": 4,
   "metadata": {},
   "outputs": [
    {
     "data": {
      "text/html": [
       "<div>\n",
       "<style scoped>\n",
       "    .dataframe tbody tr th:only-of-type {\n",
       "        vertical-align: middle;\n",
       "    }\n",
       "\n",
       "    .dataframe tbody tr th {\n",
       "        vertical-align: top;\n",
       "    }\n",
       "\n",
       "    .dataframe thead th {\n",
       "        text-align: right;\n",
       "    }\n",
       "</style>\n",
       "<table border=\"1\" class=\"dataframe\">\n",
       "  <thead>\n",
       "    <tr style=\"text-align: right;\">\n",
       "      <th></th>\n",
       "      <th>Species ID</th>\n",
       "      <th>Park Name</th>\n",
       "      <th>Category</th>\n",
       "      <th>Order</th>\n",
       "      <th>Family</th>\n",
       "      <th>Scientific Name</th>\n",
       "      <th>Common Names</th>\n",
       "      <th>Record Status</th>\n",
       "      <th>Occurrence</th>\n",
       "      <th>Nativeness</th>\n",
       "      <th>Abundance</th>\n",
       "      <th>Seasonality</th>\n",
       "      <th>Conservation Status</th>\n",
       "      <th>Unnamed: 13</th>\n",
       "    </tr>\n",
       "  </thead>\n",
       "  <tbody>\n",
       "    <tr>\n",
       "      <th>0</th>\n",
       "      <td>ACAD-1000</td>\n",
       "      <td>Acadia National Park</td>\n",
       "      <td>Mammal</td>\n",
       "      <td>Artiodactyla</td>\n",
       "      <td>Cervidae</td>\n",
       "      <td>Alces alces</td>\n",
       "      <td>Moose</td>\n",
       "      <td>Approved</td>\n",
       "      <td>Present</td>\n",
       "      <td>Native</td>\n",
       "      <td>Rare</td>\n",
       "      <td>Resident</td>\n",
       "      <td>NaN</td>\n",
       "      <td>NaN</td>\n",
       "    </tr>\n",
       "    <tr>\n",
       "      <th>1</th>\n",
       "      <td>ACAD-1001</td>\n",
       "      <td>Acadia National Park</td>\n",
       "      <td>Mammal</td>\n",
       "      <td>Artiodactyla</td>\n",
       "      <td>Cervidae</td>\n",
       "      <td>Odocoileus virginianus</td>\n",
       "      <td>Northern White-Tailed Deer, Virginia Deer, Whi...</td>\n",
       "      <td>Approved</td>\n",
       "      <td>Present</td>\n",
       "      <td>Native</td>\n",
       "      <td>Abundant</td>\n",
       "      <td>NaN</td>\n",
       "      <td>NaN</td>\n",
       "      <td>NaN</td>\n",
       "    </tr>\n",
       "    <tr>\n",
       "      <th>2</th>\n",
       "      <td>ACAD-1002</td>\n",
       "      <td>Acadia National Park</td>\n",
       "      <td>Mammal</td>\n",
       "      <td>Carnivora</td>\n",
       "      <td>Canidae</td>\n",
       "      <td>Canis latrans</td>\n",
       "      <td>Coyote, Eastern Coyote</td>\n",
       "      <td>Approved</td>\n",
       "      <td>Present</td>\n",
       "      <td>Not Native</td>\n",
       "      <td>Common</td>\n",
       "      <td>NaN</td>\n",
       "      <td>Species of Concern</td>\n",
       "      <td>NaN</td>\n",
       "    </tr>\n",
       "    <tr>\n",
       "      <th>3</th>\n",
       "      <td>ACAD-1003</td>\n",
       "      <td>Acadia National Park</td>\n",
       "      <td>Mammal</td>\n",
       "      <td>Carnivora</td>\n",
       "      <td>Canidae</td>\n",
       "      <td>Canis lupus</td>\n",
       "      <td>Eastern Timber Wolf, Gray Wolf, Timber Wolf</td>\n",
       "      <td>Approved</td>\n",
       "      <td>Not Confirmed</td>\n",
       "      <td>Native</td>\n",
       "      <td>NaN</td>\n",
       "      <td>NaN</td>\n",
       "      <td>Endangered</td>\n",
       "      <td>NaN</td>\n",
       "    </tr>\n",
       "    <tr>\n",
       "      <th>4</th>\n",
       "      <td>ACAD-1004</td>\n",
       "      <td>Acadia National Park</td>\n",
       "      <td>Mammal</td>\n",
       "      <td>Carnivora</td>\n",
       "      <td>Canidae</td>\n",
       "      <td>Vulpes vulpes</td>\n",
       "      <td>Black Fox, Cross Fox, Eastern Red Fox, Fox, Re...</td>\n",
       "      <td>Approved</td>\n",
       "      <td>Present</td>\n",
       "      <td>Unknown</td>\n",
       "      <td>Common</td>\n",
       "      <td>Breeder</td>\n",
       "      <td>NaN</td>\n",
       "      <td>NaN</td>\n",
       "    </tr>\n",
       "  </tbody>\n",
       "</table>\n",
       "</div>"
      ],
      "text/plain": [
       "  Species ID             Park Name Category         Order    Family  \\\n",
       "0  ACAD-1000  Acadia National Park   Mammal  Artiodactyla  Cervidae   \n",
       "1  ACAD-1001  Acadia National Park   Mammal  Artiodactyla  Cervidae   \n",
       "2  ACAD-1002  Acadia National Park   Mammal     Carnivora   Canidae   \n",
       "3  ACAD-1003  Acadia National Park   Mammal     Carnivora   Canidae   \n",
       "4  ACAD-1004  Acadia National Park   Mammal     Carnivora   Canidae   \n",
       "\n",
       "          Scientific Name                                       Common Names  \\\n",
       "0             Alces alces                                              Moose   \n",
       "1  Odocoileus virginianus  Northern White-Tailed Deer, Virginia Deer, Whi...   \n",
       "2           Canis latrans                             Coyote, Eastern Coyote   \n",
       "3             Canis lupus        Eastern Timber Wolf, Gray Wolf, Timber Wolf   \n",
       "4           Vulpes vulpes  Black Fox, Cross Fox, Eastern Red Fox, Fox, Re...   \n",
       "\n",
       "  Record Status     Occurrence  Nativeness Abundance Seasonality  \\\n",
       "0      Approved        Present      Native      Rare    Resident   \n",
       "1      Approved        Present      Native  Abundant         NaN   \n",
       "2      Approved        Present  Not Native    Common         NaN   \n",
       "3      Approved  Not Confirmed      Native       NaN         NaN   \n",
       "4      Approved        Present     Unknown    Common     Breeder   \n",
       "\n",
       "  Conservation Status Unnamed: 13  \n",
       "0                 NaN         NaN  \n",
       "1                 NaN         NaN  \n",
       "2  Species of Concern         NaN  \n",
       "3          Endangered         NaN  \n",
       "4                 NaN         NaN  "
      ]
     },
     "execution_count": 4,
     "metadata": {},
     "output_type": "execute_result"
    }
   ],
   "source": [
    "species_df.head()\n",
    "#Note: not sure why there is a 14th data column showing-there are only 13 columns of data-this is confirmed\n",
    "#in the documentation for the dataset. Will come back and drop that."
   ]
  },
  {
   "cell_type": "code",
   "execution_count": 5,
   "metadata": {},
   "outputs": [
    {
     "data": {
      "text/html": [
       "<div>\n",
       "<style scoped>\n",
       "    .dataframe tbody tr th:only-of-type {\n",
       "        vertical-align: middle;\n",
       "    }\n",
       "\n",
       "    .dataframe tbody tr th {\n",
       "        vertical-align: top;\n",
       "    }\n",
       "\n",
       "    .dataframe thead th {\n",
       "        text-align: right;\n",
       "    }\n",
       "</style>\n",
       "<table border=\"1\" class=\"dataframe\">\n",
       "  <thead>\n",
       "    <tr style=\"text-align: right;\">\n",
       "      <th></th>\n",
       "      <th>Park Code</th>\n",
       "      <th>Park Name</th>\n",
       "      <th>State</th>\n",
       "      <th>Acres</th>\n",
       "      <th>Latitude</th>\n",
       "      <th>Longitude</th>\n",
       "    </tr>\n",
       "  </thead>\n",
       "  <tbody>\n",
       "    <tr>\n",
       "      <th>0</th>\n",
       "      <td>ACAD</td>\n",
       "      <td>Acadia National Park</td>\n",
       "      <td>ME</td>\n",
       "      <td>47390</td>\n",
       "      <td>44.35</td>\n",
       "      <td>-68.21</td>\n",
       "    </tr>\n",
       "    <tr>\n",
       "      <th>1</th>\n",
       "      <td>ARCH</td>\n",
       "      <td>Arches National Park</td>\n",
       "      <td>UT</td>\n",
       "      <td>76519</td>\n",
       "      <td>38.68</td>\n",
       "      <td>-109.57</td>\n",
       "    </tr>\n",
       "    <tr>\n",
       "      <th>2</th>\n",
       "      <td>BADL</td>\n",
       "      <td>Badlands National Park</td>\n",
       "      <td>SD</td>\n",
       "      <td>242756</td>\n",
       "      <td>43.75</td>\n",
       "      <td>-102.50</td>\n",
       "    </tr>\n",
       "    <tr>\n",
       "      <th>3</th>\n",
       "      <td>BIBE</td>\n",
       "      <td>Big Bend National Park</td>\n",
       "      <td>TX</td>\n",
       "      <td>801163</td>\n",
       "      <td>29.25</td>\n",
       "      <td>-103.25</td>\n",
       "    </tr>\n",
       "    <tr>\n",
       "      <th>4</th>\n",
       "      <td>BISC</td>\n",
       "      <td>Biscayne National Park</td>\n",
       "      <td>FL</td>\n",
       "      <td>172924</td>\n",
       "      <td>25.65</td>\n",
       "      <td>-80.08</td>\n",
       "    </tr>\n",
       "  </tbody>\n",
       "</table>\n",
       "</div>"
      ],
      "text/plain": [
       "  Park Code               Park Name State   Acres  Latitude  Longitude\n",
       "0      ACAD    Acadia National Park    ME   47390     44.35     -68.21\n",
       "1      ARCH    Arches National Park    UT   76519     38.68    -109.57\n",
       "2      BADL  Badlands National Park    SD  242756     43.75    -102.50\n",
       "3      BIBE  Big Bend National Park    TX  801163     29.25    -103.25\n",
       "4      BISC  Biscayne National Park    FL  172924     25.65     -80.08"
      ]
     },
     "execution_count": 5,
     "metadata": {},
     "output_type": "execute_result"
    }
   ],
   "source": [
    "parks_df.head()"
   ]
  },
  {
   "cell_type": "markdown",
   "metadata": {},
   "source": [
    "### Creating a new column for Plant/Animal Boolean\n"
   ]
  },
  {
   "cell_type": "code",
   "execution_count": 38,
   "metadata": {},
   "outputs": [
    {
     "data": {
      "text/html": [
       "<div>\n",
       "<style scoped>\n",
       "    .dataframe tbody tr th:only-of-type {\n",
       "        vertical-align: middle;\n",
       "    }\n",
       "\n",
       "    .dataframe tbody tr th {\n",
       "        vertical-align: top;\n",
       "    }\n",
       "\n",
       "    .dataframe thead th {\n",
       "        text-align: right;\n",
       "    }\n",
       "</style>\n",
       "<table border=\"1\" class=\"dataframe\">\n",
       "  <thead>\n",
       "    <tr style=\"text-align: right;\">\n",
       "      <th></th>\n",
       "      <th>Species ID</th>\n",
       "      <th>Park Name</th>\n",
       "      <th>Category</th>\n",
       "      <th>Order</th>\n",
       "      <th>Family</th>\n",
       "      <th>Scientific Name</th>\n",
       "      <th>Common Names</th>\n",
       "      <th>Record Status</th>\n",
       "      <th>Occurrence</th>\n",
       "      <th>Nativeness</th>\n",
       "      <th>Abundance</th>\n",
       "      <th>Seasonality</th>\n",
       "      <th>Conservation Status</th>\n",
       "      <th>Unnamed: 13</th>\n",
       "      <th>plant_animal_boolean</th>\n",
       "    </tr>\n",
       "  </thead>\n",
       "  <tbody>\n",
       "    <tr>\n",
       "      <th>119243</th>\n",
       "      <td>ZION-2791</td>\n",
       "      <td>Zion National Park</td>\n",
       "      <td>Vascular Plant</td>\n",
       "      <td>Solanales</td>\n",
       "      <td>Solanaceae</td>\n",
       "      <td>Solanum triflorum</td>\n",
       "      <td>Cut-Leaf Nightshade</td>\n",
       "      <td>Approved</td>\n",
       "      <td>Present</td>\n",
       "      <td>Native</td>\n",
       "      <td>Uncommon</td>\n",
       "      <td>NaN</td>\n",
       "      <td>NaN</td>\n",
       "      <td>NaN</td>\n",
       "      <td>0</td>\n",
       "    </tr>\n",
       "    <tr>\n",
       "      <th>119244</th>\n",
       "      <td>ZION-2792</td>\n",
       "      <td>Zion National Park</td>\n",
       "      <td>Vascular Plant</td>\n",
       "      <td>Vitales</td>\n",
       "      <td>Vitaceae</td>\n",
       "      <td>Vitis arizonica</td>\n",
       "      <td>Canyon Grape</td>\n",
       "      <td>Approved</td>\n",
       "      <td>Present</td>\n",
       "      <td>Native</td>\n",
       "      <td>Uncommon</td>\n",
       "      <td>NaN</td>\n",
       "      <td>NaN</td>\n",
       "      <td>NaN</td>\n",
       "      <td>0</td>\n",
       "    </tr>\n",
       "    <tr>\n",
       "      <th>119245</th>\n",
       "      <td>ZION-2793</td>\n",
       "      <td>Zion National Park</td>\n",
       "      <td>Vascular Plant</td>\n",
       "      <td>Vitales</td>\n",
       "      <td>Vitaceae</td>\n",
       "      <td>Vitis vinifera</td>\n",
       "      <td>Wine Grape</td>\n",
       "      <td>Approved</td>\n",
       "      <td>Present</td>\n",
       "      <td>Not Native</td>\n",
       "      <td>Uncommon</td>\n",
       "      <td>NaN</td>\n",
       "      <td>NaN</td>\n",
       "      <td>NaN</td>\n",
       "      <td>0</td>\n",
       "    </tr>\n",
       "    <tr>\n",
       "      <th>119246</th>\n",
       "      <td>ZION-2794</td>\n",
       "      <td>Zion National Park</td>\n",
       "      <td>Vascular Plant</td>\n",
       "      <td>Zygophyllales</td>\n",
       "      <td>Zygophyllaceae</td>\n",
       "      <td>Larrea tridentata</td>\n",
       "      <td>Creosote Bush</td>\n",
       "      <td>Approved</td>\n",
       "      <td>Present</td>\n",
       "      <td>Native</td>\n",
       "      <td>Rare</td>\n",
       "      <td>NaN</td>\n",
       "      <td>NaN</td>\n",
       "      <td>NaN</td>\n",
       "      <td>0</td>\n",
       "    </tr>\n",
       "    <tr>\n",
       "      <th>119247</th>\n",
       "      <td>ZION-2795</td>\n",
       "      <td>Zion National Park</td>\n",
       "      <td>Vascular Plant</td>\n",
       "      <td>Zygophyllales</td>\n",
       "      <td>Zygophyllaceae</td>\n",
       "      <td>Tribulus terrestris</td>\n",
       "      <td>Puncture Vine</td>\n",
       "      <td>Approved</td>\n",
       "      <td>Present</td>\n",
       "      <td>Not Native</td>\n",
       "      <td>Uncommon</td>\n",
       "      <td>NaN</td>\n",
       "      <td>NaN</td>\n",
       "      <td>NaN</td>\n",
       "      <td>0</td>\n",
       "    </tr>\n",
       "  </tbody>\n",
       "</table>\n",
       "</div>"
      ],
      "text/plain": [
       "       Species ID           Park Name        Category          Order  \\\n",
       "119243  ZION-2791  Zion National Park  Vascular Plant      Solanales   \n",
       "119244  ZION-2792  Zion National Park  Vascular Plant        Vitales   \n",
       "119245  ZION-2793  Zion National Park  Vascular Plant        Vitales   \n",
       "119246  ZION-2794  Zion National Park  Vascular Plant  Zygophyllales   \n",
       "119247  ZION-2795  Zion National Park  Vascular Plant  Zygophyllales   \n",
       "\n",
       "                Family      Scientific Name         Common Names  \\\n",
       "119243      Solanaceae    Solanum triflorum  Cut-Leaf Nightshade   \n",
       "119244        Vitaceae      Vitis arizonica         Canyon Grape   \n",
       "119245        Vitaceae       Vitis vinifera           Wine Grape   \n",
       "119246  Zygophyllaceae    Larrea tridentata        Creosote Bush   \n",
       "119247  Zygophyllaceae  Tribulus terrestris        Puncture Vine   \n",
       "\n",
       "       Record Status Occurrence  Nativeness Abundance Seasonality  \\\n",
       "119243      Approved    Present      Native  Uncommon         NaN   \n",
       "119244      Approved    Present      Native  Uncommon         NaN   \n",
       "119245      Approved    Present  Not Native  Uncommon         NaN   \n",
       "119246      Approved    Present      Native      Rare         NaN   \n",
       "119247      Approved    Present  Not Native  Uncommon         NaN   \n",
       "\n",
       "       Conservation Status Unnamed: 13  plant_animal_boolean  \n",
       "119243                 NaN         NaN                     0  \n",
       "119244                 NaN         NaN                     0  \n",
       "119245                 NaN         NaN                     0  \n",
       "119246                 NaN         NaN                     0  \n",
       "119247                 NaN         NaN                     0  "
      ]
     },
     "execution_count": 38,
     "metadata": {},
     "output_type": "execute_result"
    }
   ],
   "source": [
    "plant_animal_boolean_list = []\n",
    "for entry in species_df['Category']:\n",
    "    if entry == 'Vascular Plant' or  entry =='Fungi' or entry =='Nonvascular Plant' or entry =='Algae':\n",
    "        plant_animal_boolean = 0\n",
    "        plant_animal_boolean_list.append(plant_animal_boolean)\n",
    "    else:\n",
    "        plant_animal_boolean = 1\n",
    "        plant_animal_boolean_list.append(plant_animal_boolean)\n",
    "\n",
    "species_df['plant_animal_boolean'] = plant_animal_boolean_list\n",
    "\n",
    "species_df.tail()"
   ]
  },
  {
   "cell_type": "markdown",
   "metadata": {},
   "source": [
    "### Looking at the number of unique entries\n"
   ]
  },
  {
   "cell_type": "code",
   "execution_count": 14,
   "metadata": {},
   "outputs": [
    {
     "name": "stdout",
     "output_type": "stream",
     "text": [
      "['Mammal' 'Bird' 'Reptile' 'Amphibian' 'Fish' 'Vascular Plant'\n",
      " 'Spider/Scorpion' 'Insect' 'Invertebrate' 'Fungi' 'Nonvascular Plant'\n",
      " 'Crab/Lobster/Shrimp' 'Slug/Snail' 'Algae']\n",
      "14\n"
     ]
    }
   ],
   "source": [
    "unique_categories = species_df['Category'].unique()\n",
    "print(unique_categories)\n",
    "\n",
    "num_unique_categories = species_df['Category'].nunique()\n",
    "print(num_unique_categories)"
   ]
  },
  {
   "cell_type": "code",
   "execution_count": 13,
   "metadata": {},
   "outputs": [
    {
     "name": "stdout",
     "output_type": "stream",
     "text": [
      "['Acadia National Park' 'Arches National Park' 'Badlands National Park'\n",
      " 'Big Bend National Park' 'Biscayne National Park'\n",
      " 'Black Canyon of the Gunnison National Park' 'Bryce Canyon National Park'\n",
      " 'Canyonlands National Park' 'Capitol Reef National Park'\n",
      " 'Carlsbad Caverns National Park' 'Channel Islands National Park'\n",
      " 'Congaree National Park' 'Crater Lake National Park'\n",
      " 'Cuyahoga Valley National Park' 'Denali National Park and Preserve'\n",
      " 'Death Valley National Park' 'Dry Tortugas National Park'\n",
      " 'Everglades National Park'\n",
      " 'Gates Of The Arctic National Park and Preserve' 'Glacier National Park'\n",
      " 'Glacier Bay National Park and Preserve' 'Great Basin National Park'\n",
      " 'Grand Canyon National Park'\n",
      " 'Great Sand Dunes National Park and Preserve'\n",
      " 'Great Smoky Mountains National Park' 'Grand Teton National Park'\n",
      " 'Guadalupe Mountains National Park' 'Haleakala National Park'\n",
      " 'Hawaii Volcanoes National Park' 'Hot Springs National Park'\n",
      " 'Isle Royale National Park' 'Joshua Tree National Park'\n",
      " 'Katmai National Park and Preserve' 'Kenai Fjords National Park'\n",
      " 'Kobuk Valley National Park' 'Lake Clark National Park and Preserve'\n",
      " 'Lassen Volcanic National Park' 'Mammoth Cave National Park'\n",
      " 'Mesa Verde National Park' 'Mount Rainier National Park'\n",
      " 'North Cascades National Park' 'Olympic National Park'\n",
      " 'Petrified Forest National Park' 'Pinnacles National Park'\n",
      " 'Redwood National Park' 'Rocky Mountain National Park'\n",
      " 'Saguaro National Park' 'Sequoia and Kings Canyon National Parks'\n",
      " 'Shenandoah National Park' 'Theodore Roosevelt National Park'\n",
      " 'Voyageurs National Park' 'Wind Cave National Park'\n",
      " 'Wrangell - St Elias National Park and Preserve'\n",
      " 'Yellowstone National Park' 'Yosemite National Park' 'Zion National Park']\n",
      "56\n"
     ]
    }
   ],
   "source": [
    "unique_parks = species_df['Park Name'].unique()\n",
    "print(unique_parks)\n",
    "\n",
    "num_unique_parks = species_df['Park Name'].nunique()\n",
    "print(num_unique_parks)"
   ]
  },
  {
   "cell_type": "code",
   "execution_count": 18,
   "metadata": {},
   "outputs": [
    {
     "name": "stdout",
     "output_type": "stream",
     "text": [
      "['ACAD-1000' 'ACAD-1001' 'ACAD-1002' ... 'ZION-2793' 'ZION-2794'\n",
      " 'ZION-2795']\n",
      "119248\n"
     ]
    }
   ],
   "source": [
    "unique_species_id = species_df['Species ID'].unique()\n",
    "print(unique_species_id)\n",
    "\n",
    "num_unique_species_id = species_df['Species ID'].nunique()\n",
    "print(num_unique_species_id)"
   ]
  },
  {
   "cell_type": "code",
   "execution_count": 16,
   "metadata": {},
   "outputs": [
    {
     "name": "stdout",
     "output_type": "stream",
     "text": [
      "['ME' 'UT' 'SD' 'TX' 'FL' 'CO' 'NM' 'CA' 'SC' 'OR' 'OH' 'AK' 'CA, NV' 'MT'\n",
      " 'NV' 'AZ' 'TN, NC' 'WY' 'HI' 'AR' 'MI' 'KY' 'WA' 'VA' 'ND' 'MN'\n",
      " 'WY, MT, ID']\n",
      "27\n"
     ]
    }
   ],
   "source": [
    "unique_states = parks_df['State'].unique()\n",
    "print(unique_states)\n",
    "\n",
    "num_unique_states = parks_df['State'].nunique()\n",
    "print(num_unique_states)"
   ]
  },
  {
   "cell_type": "markdown",
   "metadata": {},
   "source": [
    "### Considering basic information about size of parks"
   ]
  },
  {
   "cell_type": "code",
   "execution_count": 17,
   "metadata": {},
   "outputs": [
    {
     "data": {
      "text/plain": [
       "count    5.600000e+01\n",
       "mean     9.279291e+05\n",
       "std      1.709258e+06\n",
       "min      5.550000e+03\n",
       "25%      6.901050e+04\n",
       "50%      2.387645e+05\n",
       "75%      8.173602e+05\n",
       "max      8.323148e+06\n",
       "Name: Acres, dtype: float64"
      ]
     },
     "execution_count": 17,
     "metadata": {},
     "output_type": "execute_result"
    }
   ],
   "source": [
    "parks_df['Acres'].describe()"
   ]
  },
  {
   "cell_type": "markdown",
   "metadata": {},
   "source": [
    "### Making maps of park states, locations, number of parks per state, and biodiversity measures within parks."
   ]
  },
  {
   "cell_type": "code",
   "execution_count": null,
   "metadata": {},
   "outputs": [],
   "source": []
  },
  {
   "cell_type": "markdown",
   "metadata": {},
   "source": [
    "## First Pass -- missing data, data types, etc"
   ]
  },
  {
   "cell_type": "code",
   "execution_count": null,
   "metadata": {},
   "outputs": [],
   "source": [
    "# deal with missing data for species\n",
    "\n",
    "#deal with missing data for parks\n",
    "\n",
    "#convert to appropriate data types if needed"
   ]
  },
  {
   "cell_type": "markdown",
   "metadata": {},
   "source": [
    "## Basic Data Exploration & Visualizations"
   ]
  },
  {
   "cell_type": "markdown",
   "metadata": {},
   "source": [
    "### species"
   ]
  },
  {
   "cell_type": "markdown",
   "metadata": {},
   "source": [
    "#### number of species"
   ]
  },
  {
   "cell_type": "markdown",
   "metadata": {},
   "source": [
    "### parks"
   ]
  },
  {
   "cell_type": "markdown",
   "metadata": {},
   "source": [
    "## Preprocessing"
   ]
  },
  {
   "cell_type": "markdown",
   "metadata": {},
   "source": [
    "### Removing missing data"
   ]
  },
  {
   "cell_type": "markdown",
   "metadata": {},
   "source": [
    "###"
   ]
  },
  {
   "cell_type": "markdown",
   "metadata": {},
   "source": [
    "### Encoding state names and park names/codes?"
   ]
  },
  {
   "cell_type": "markdown",
   "metadata": {},
   "source": [
    "### Encoding species id, park name, category, order, family, scientific name--well, pretty much everything"
   ]
  },
  {
   "cell_type": "markdown",
   "metadata": {},
   "source": [
    "# **ETL Code**"
   ]
  },
  {
   "cell_type": "code",
   "execution_count": null,
   "metadata": {},
   "outputs": [],
   "source": []
  },
  {
   "cell_type": "code",
   "execution_count": 22,
   "metadata": {},
   "outputs": [],
   "source": [
    "#Importing the module and creating a new connection\n",
    "import psycopg2\n",
    "con = psycopg2.connect(\"user=postgres password='PASSWORD'\");\n",
    "\n",
    "from psycopg2.extensions import ISOLATION_LEVEL_AUTOCOMMIT\n",
    "\n",
    " \n",
    "\n",
    "#Connecting to Postgresql\n",
    "\n",
    "con.set_isolation_level(ISOLATION_LEVEL_AUTOCOMMIT);\n",
    "\n",
    "#Initializing a cursor and creating a new database for this project\n",
    "\n",
    "cursor          = con.cursor();\n",
    "\n",
    "name_Database   = \"national_parks_biodiversity\";\n",
    "\n",
    "\n",
    "sqlCreateDatabase = \"create database \"+name_Database+\";\"\n",
    "\n",
    " \n",
    "\n",
    "cursor.execute(sqlCreateDatabase);\n",
    "\n",
    "con.close()"
   ]
  },
  {
   "cell_type": "markdown",
   "metadata": {},
   "source": [
    "### Plant Species SQL tables"
   ]
  },
  {
   "cell_type": "code",
   "execution_count": null,
   "metadata": {},
   "outputs": [],
   "source": [
    "#Pulling out the data just for \"plant\" species"
   ]
  },
  {
   "cell_type": "code",
   "execution_count": null,
   "metadata": {},
   "outputs": [],
   "source": []
  },
  {
   "cell_type": "code",
   "execution_count": 26,
   "metadata": {},
   "outputs": [],
   "source": [
    "#initiate the connection & set the cursor\n",
    "con = psycopg2.connect(\"dbname=national_parks_biodiversity user=postgres\")\n",
    "cur = con.cursor()\n",
    "\n",
    "#Create table and identify column headers, setting primary key to ID for all tables\n",
    "cur.execute(\n",
    "    \"\"\"\n",
    "    CREATE TABLE plant_species_details (\n",
    "        park_name text,\n",
    "        species_id int,\n",
    "        category text,\n",
    "        species_order text,\n",
    "        family text,\n",
    "        scientific_name text,\n",
    "        first_common_name text,\n",
    "        record_status text,\n",
    "        plant_animal_boolean int,\n",
    "        PRIMARY KEY (park_name)\n",
    "    )\n",
    "    \"\"\"\n",
    ")\n",
    "\n",
    "#commit our changes\n",
    "con.commit()\n",
    "\n",
    "\n",
    "#close the connections\n",
    "con.close()"
   ]
  },
  {
   "cell_type": "code",
   "execution_count": null,
   "metadata": {},
   "outputs": [],
   "source": [
    "#Inserting our data into the new table\n",
    "\n",
    "con = psycopg2.connect(\"dbname=national_parks_biodiversity user=postgres\")\n",
    "for i in plant_species_df.index:\n",
    "    query = \"\"\"\n",
    "    INSERT into generation (name, ID, generation) values('%s',%s,%s);\n",
    "    \"\"\" % (pokemon_df['name'][i], pokemon_df['id'][i], pokemon_df['generation'][i])\n",
    "    cursor = con.cursor()\n",
    "    print(query)\n",
    "    cursor.execute(query)\n",
    "    con.commit()\n",
    "    cursor.close()\n",
    "    #single_insert(conn, query)\n",
    "# Close the connection\n",
    "con.close()"
   ]
  }
 ],
 "metadata": {
  "kernelspec": {
   "display_name": "Python 3",
   "language": "python",
   "name": "python3"
  },
  "language_info": {
   "codemirror_mode": {
    "name": "ipython",
    "version": 3
   },
   "file_extension": ".py",
   "mimetype": "text/x-python",
   "name": "python",
   "nbconvert_exporter": "python",
   "pygments_lexer": "ipython3",
   "version": "3.8.5"
  }
 },
 "nbformat": 4,
 "nbformat_minor": 4
}
